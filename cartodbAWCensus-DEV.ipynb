{
 "cells": [
  {
   "cell_type": "code",
   "execution_count": 95,
   "metadata": {
    "collapsed": false
   },
   "outputs": [],
   "source": [
    "import urllib\n",
    "import urllib2\n",
    "import cartodb\n",
    "import datetime\n",
    "from datetime import datetime\n",
    "import time\n",
    "import pandas as pd\n",
    "\n",
    "pd.options.display.max_columns = 5200\n",
    "pd.options.display.max_rows    = 5200"
   ]
  },
  {
   "cell_type": "code",
   "execution_count": 96,
   "metadata": {
    "collapsed": false
   },
   "outputs": [],
   "source": [
    "def cartodbAWCensus(inLat,inLng,bufDist,censusFeature,username,apikey):\n",
    "    fileDate = datetime.now().strftime('%Y%m%d_%H%M%S')\n",
    "    fd = fileDate\n",
    "\n",
    "    print 'Datetime:'\n",
    "    print fd\n",
    "    url = \"https://%s.cartodb.com/api/v1/sql\" % username\n",
    "    \n",
    "    i = '1' #in this, basically create a new var that is the count of number of unique lat,lng's, in this case just this one, make this a loop at some point.\n",
    "    \n",
    "    insertList = [\"CREATE TABLE latlngtable_\"+fd+\" (cdbawcensusuid int);\",\n",
    "                  \"SELECT cdb_cartodbfytable('latlngtable_\"+fd+\"');\",\n",
    "                  \"INSERT INTO latlngtable_\"+fd+\" (the_geom, cdbawcensusuid) VALUES (CDB_LatLng(\"+inLat+\", \"+inLng+\"), \"+i+\")\",\n",
    "                  \"CREATE TABLE latlngtablebuffer_\"+fd+\" AS SELECT ST_Buffer(the_geom_webmercator, \"+bufDist+\") AS the_geom_webmercator, cartodb_id, cdbawcensusuid FROM latlngtable_\"+fd+\"\",\n",
    "                  \"SELECT cdb_cartodbfytable('latlngtablebuffer_\"+fd+\"');\",\n",
    "                  \"CREATE TABLE latlngtablebufferintersect_\"+fd+\" AS (SELECT  ST_Intersection(a.the_geom, b.the_geom), a.geoid, a.sq_km, b.cdbawcensusuid FROM \"+censusFeature+\" as a, latlngtablebuffer_\"+fd+\" as b WHERE ST_Intersects(a.the_geom, b.the_geom))\",\n",
    "                  \"SELECT cdb_cartodbfytable('latlngtablebufferintersect_\"+fd+\"');\",\n",
    "                  \"CREATE TABLE latlngtablebufferintersectcalc_\"+fd+\" AS SELECT ST_Area(the_geom::geography) area_sqmeters, (ST_Area(the_geom::geography)/(sq_km*1000000)) pctorigarea, geoid, the_geom, cdbawcensusuid, sq_km FROM latlngtablebufferintersect_\"+fd+\"\",\n",
    "                  \"SELECT cdb_cartodbfytable('latlngtablebufferintersectcalc_\"+fd+\"');\",\n",
    "                  \"DROP TABLE latlngtable_\"+fd+\", latlngtablebuffer_\"+fd+\", latlngtablebufferintersect_\"+fd+\"\"\n",
    "                 ]\n",
    "    print '------------'\n",
    "    print 'Running SQL commands to PostGIS/CartoDB...'\n",
    "    for insert in insertList:   \n",
    "        params = {\n",
    "            'api_key' : apikey, # our account apikey, don't share!\n",
    "            'q'       : insert  # our insert statement above\n",
    "        }  \n",
    "        #print insert\n",
    "        req = urllib2.Request(url, urllib.urlencode(params))\n",
    "        response = urllib2.urlopen(req)\n",
    "    time.sleep(60)\n",
    "    url = \"http://dms8md23.cartodb.com/api/v2/sql?q=SELECT%20*%20FROM%20latlngtablebufferintersectcalc_\"+fd+\"&format=csv&api_key=\"+apikey\n",
    "    df = pd.read_csv(url)\n",
    "    df = df.drop(['the_geom','the_geom_webmercator'], axis=1)\n",
    "    df.to_csv(\"latlngtablebufferintersectcalc_\"+fd+\".csv\", index=False)\n",
    "    print 'Table Output - saved table as .csv to folder where this script has run from'\n",
    "    print '------------'\n",
    "    print df.head(10)"
   ]
  },
  {
   "cell_type": "code",
   "execution_count": 97,
   "metadata": {
    "collapsed": false
   },
   "outputs": [
    {
     "name": "stdout",
     "output_type": "stream",
     "text": [
      "Datetime:\n",
      "20150910_133637\n",
      "------------\n",
      "Running SQL commands to PostGIS/CartoDB...\n",
      "Table Output - saved table as .csv to folder where this script has run from\n",
      "------------\n",
      "   cartodb_id  area_sqmeters  pctorigarea        geoid  cdbawcensusuid  \\\n",
      "0           1   90268.038681     1.000005  36061000201               1   \n",
      "1           2  240005.804314     1.000004  36061000600               1   \n",
      "2           3  261586.415734     1.000005  36061001501               1   \n",
      "3           4  205218.332630     1.000004  36061003100               1   \n",
      "4           5   81671.713820     0.656784  36061005501               1   \n",
      "5           6   82058.485497     0.710555  36061005502               1   \n",
      "6           7  207318.352352     1.000005  36061004900               1   \n",
      "7           8   76449.396441     0.611928  36061003001               1   \n",
      "8           9  104936.478346     1.000004  36061004500               1   \n",
      "9          10  217024.957715     1.000000  36061001502               1   \n",
      "\n",
      "      sq_km  \n",
      "0  0.090268  \n",
      "1  0.240005  \n",
      "2  0.261585  \n",
      "3  0.205218  \n",
      "4  0.124351  \n",
      "5  0.115485  \n",
      "6  0.207317  \n",
      "7  0.124932  \n",
      "8  0.104936  \n",
      "9  0.217025  \n"
     ]
    }
   ],
   "source": [
    "cartoDBusername = 'dms8md23'\n",
    "cartoDBapikey = 'fc4b0fe709cc086fd177768e648694d6be3170dc'\n",
    "\n",
    "cartodbAWCensus('40.7127','-74.0059','2500','nyct2010',cartoDBusername, cartoDBapikey)"
   ]
  },
  {
   "cell_type": "code",
   "execution_count": null,
   "metadata": {
    "collapsed": false
   },
   "outputs": [],
   "source": []
  },
  {
   "cell_type": "code",
   "execution_count": null,
   "metadata": {
    "collapsed": true
   },
   "outputs": [],
   "source": []
  }
 ],
 "metadata": {
  "kernelspec": {
   "display_name": "Python 2",
   "language": "python",
   "name": "python2"
  },
  "language_info": {
   "codemirror_mode": {
    "name": "ipython",
    "version": 2
   },
   "file_extension": ".py",
   "mimetype": "text/x-python",
   "name": "python",
   "nbconvert_exporter": "python",
   "pygments_lexer": "ipython2",
   "version": "2.7.10"
  }
 },
 "nbformat": 4,
 "nbformat_minor": 0
}
