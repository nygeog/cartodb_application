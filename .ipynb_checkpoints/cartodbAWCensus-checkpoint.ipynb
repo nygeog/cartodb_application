{
 "cells": [
  {
   "cell_type": "code",
   "execution_count": 51,
   "metadata": {
    "collapsed": false
   },
   "outputs": [],
   "source": [
    "import urllib\n",
    "import urllib2\n",
    "import cartodb\n",
    "import datetime\n",
    "from datetime import datetime\n",
    "import time"
   ]
  },
  {
   "cell_type": "code",
   "execution_count": null,
   "metadata": {
    "collapsed": false
   },
   "outputs": [
    {
     "name": "stdout",
     "output_type": "stream",
     "text": [
      "20150910_114237\n",
      "Running SQL commands to PostGIS/CartoDB...\n",
      "    wait 8 more minutes for map to appear...\n",
      "    wait 8 more minutes for map to appear...\n",
      "    wait 7 more minutes for map to appear...\n",
      "    wait 6 more minutes for map to appear..."
     ]
    }
   ],
   "source": [
    "username = 'dms8md23'\n",
    "apikey = 'fc4b0fe709cc086fd177768e648694d6be3170dc'\n",
    "\n",
    "fileDate = datetime.now().strftime('%Y%m%d_%H%M%S')\n",
    "fd = fileDate\n",
    "\n",
    "print fd\n",
    "\n",
    "def cartodbAWCensus(inLat,inLng,bufDist,censusFeature):\n",
    "    url = \"https://%s.cartodb.com/api/v1/sql\" % username\n",
    "    \n",
    "    \n",
    "    i = '1' #in this, basically create a new var that is the count of number of unique lat,lng's, in this case just this one, make this a loop at some point.\n",
    "    \n",
    "    insertList = [\"CREATE TABLE latlngtable_\"+fd+\" (cdbawcensusuid int);\",\n",
    "                  \"SELECT cdb_cartodbfytable('latlngtable_\"+fd+\"');\",\n",
    "                  \"INSERT INTO latlngtable_\"+fd+\" (the_geom, cdbawcensusuid) VALUES (CDB_LatLng(\"+inLat+\", \"+inLng+\"), \"+i+\")\",\n",
    "                  \"CREATE TABLE latlngtablebuffer_\"+fd+\" AS SELECT ST_Buffer(the_geom_webmercator, \"+bufDist+\") AS the_geom_webmercator, cartodb_id, cdbawcensusuid FROM latlngtable_\"+fd+\"\",\n",
    "                  \"SELECT cdb_cartodbfytable('latlngtablebuffer_\"+fd+\"');\",\n",
    "                  \"CREATE TABLE latlngtablebufferintersect_\"+fd+\" AS (SELECT  ST_Intersection(a.the_geom, b.the_geom), a.geoid, a.sq_km, b.cdbawcensusuid FROM \"+censusFeature+\" as a, latlngtablebuffer_\"+fd+\" as b WHERE ST_Intersects(a.the_geom, b.the_geom))\",\n",
    "                  \"SELECT cdb_cartodbfytable('latlngtablebufferintersect_\"+fd+\"');\",\n",
    "                  \"CREATE TABLE latlngtablebufferintersectcalc_\"+fd+\" AS SELECT ST_Area(the_geom::geography) area_sqmeters, (ST_Area(the_geom::geography)/(sq_km*1000000)) pctorigarea, geoid, the_geom, cdbawcensusuid, sq_km FROM latlngtablebufferintersect_\"+fd+\"\",\n",
    "                  \"SELECT cdb_cartodbfytable('latlngtablebufferintersectcalc_\"+fd+\"');\"\n",
    "                 ]\n",
    "\n",
    "    print 'Running SQL commands to PostGIS/CartoDB...'\n",
    "    \n",
    "    for insert in insertList:   \n",
    "        params = {\n",
    "            'api_key' : apikey, # our account apikey, don't share!\n",
    "            'q'       : insert  # our insert statement above\n",
    "        }\n",
    "        \n",
    "        #print insert\n",
    "\n",
    "        req = urllib2.Request(url, urllib.urlencode(params))\n",
    "        response = urllib2.urlopen(req)\n",
    "       \n",
    "    maxMins = 8\n",
    "    \n",
    "    print 'It should take about '+str(maxMins)+' minutes for the map and data link to appear...'\n",
    "    \n",
    "    for j in range(0,maxMins):\n",
    "        k = maxMins - j\n",
    "        print '    wait '+str(k)+' more minutes to appear...'\n",
    "        time.sleep(60)\n",
    "      \n",
    "    \n",
    "cartodbAWCensus('40.7127','-74.0059','2500','nyct2010')\n",
    "\n",
    "from IPython.display import HTML\n",
    "HTML('<iframe width=100% height=520 frameborder=0 src=https://dms8md23.cartodb.com/tables/latlngtablebufferintersectcalc_'+fd+'/public/map allowfullscreen webkitallowfullscreen mozallowfullscreen oallowfullscreen msallowfullscreen></iframe>')\n",
    "    "
   ]
  },
  {
   "cell_type": "code",
   "execution_count": null,
   "metadata": {
    "collapsed": false
   },
   "outputs": [],
   "source": []
  },
  {
   "cell_type": "code",
   "execution_count": null,
   "metadata": {
    "collapsed": false
   },
   "outputs": [],
   "source": []
  }
 ],
 "metadata": {
  "kernelspec": {
   "display_name": "Python 2",
   "language": "python",
   "name": "python2"
  },
  "language_info": {
   "codemirror_mode": {
    "name": "ipython",
    "version": 2
   },
   "file_extension": ".py",
   "mimetype": "text/x-python",
   "name": "python",
   "nbconvert_exporter": "python",
   "pygments_lexer": "ipython2",
   "version": "2.7.10"
  }
 },
 "nbformat": 4,
 "nbformat_minor": 0
}
