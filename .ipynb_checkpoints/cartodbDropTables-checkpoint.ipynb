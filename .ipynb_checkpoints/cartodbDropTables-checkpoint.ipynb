{
 "cells": [
  {
   "cell_type": "code",
   "execution_count": 2,
   "metadata": {
    "collapsed": true
   },
   "outputs": [],
   "source": [
    "import urllib\n",
    "import urllib2\n",
    "import cartodb\n",
    "import datetime\n",
    "from datetime import datetime\n",
    "import time\n",
    "import pandas as pd"
   ]
  },
  {
   "cell_type": "code",
   "execution_count": 3,
   "metadata": {
    "collapsed": false
   },
   "outputs": [
    {
     "name": "stdout",
     "output_type": "stream",
     "text": [
      "drop tables in toDrop list - for account maintenance\n"
     ]
    }
   ],
   "source": [
    "print 'drop tables in toDrop list - for account maintenance'\n",
    "username = 'dms8md23'\n",
    "apikey = 'fc4b0fe709cc086fd177768e648694d6be3170dc'\n",
    "\n",
    "toDrop = 'latlngtable_20150910_090537, latlngtable_20150910_111707, latlngtablebufferintersect_20150910_111707, latlngtablebufferintersect_20150910_131853, latlngtablebufferintersectcalc_20150910_111707, latlngtablebufferintersectcalc_20150910_131853, latlngtablebuffer_20150910_111707, latlngtablebufferintersect_20150910_112848, latlngtablebufferintersectcalc_20150910_112848, latlngtablebuffer_20150910_112848, latlngtable_20150910_112848, latlngtable_20150910_132242, latlngtablebufferintersect_20150910_113516, latlngtablebuffer_20150910_132242, latlngtablebufferintersectcalc_20150910_113516, latlngtablebuffer_20150910_113516, latlngtable_20150910_113516, latlngtablebuffer_20150910_114237, latlngtable_20150910_114237, latlngtablebufferintersect_20150910_114237, latlngtablebufferintersectcalc_20150910_132242, latlngtablebufferintersectcalc_20150910_114237, latlngtablebufferintersect_20150910_132242, latlngtablebuffer_20150910_132524, latlngtablebufferintersect_20150910_132524, latlngtable_20150910_132524, latlngtablebuffer_20150910_115118, latlngtablebufferintersect_20150910_115118, latlngtable_20150910_115118, latlngtablebufferintersectcalc_20150910_115118, latlngtablebufferintersectcalc_20150910_132524, latlngtablebufferintersectcalc_20150910_120521, latlngtablebuffer_20150910_120521, latlngtablebufferintersect_20150910_120521, latlngtable_20150910_120521, latlngtable_20150910_122625, latlngtablebuffer_20150910_122625, latlngtablebufferintersectcalc_20150910_122625, latlngtablebufferintersectcalc_20150910_133637, latlngtablebufferintersect_20150910_122625, latlngtablebufferintersect_20150910_124906, latlngtablebuffer_20150910_124906, latlngtablebufferintersectcalc_20150910_124906, latlngtable_20150910_124924, latlngtable_20150910_124906, latlngtablebuffer_20150910_124924, latlngtablebufferintersect_20150910_124924, latlngtable_20150910_124943, latlngtablebufferintersectcalc_20150910_124924, latlngtablebuffer_20150910_124943, latlngtablebufferintersect_20150910_124943, latlngtablebufferintersectcalc_20150910_124943, latlngtable_20150910_125431, latlngtablebuffer_20150910_125431, latlngtablebufferintersect_20150910_125431, latlngtablebufferintersectcalc_20150910_125431, latlngtablebuffer_20150910_125501, latlngtable_20150910_125501, latlngtablebufferintersect_20150910_125501, latlngtablebufferintersectcalc_20150910_125501, latlngtable_20150910_125523, latlngtablebuffer_20150910_125523, latlngtablebufferintersect_20150910_125523, latlngtablebufferintersectcalc_20150910_125523, latlngtable_20150910_130151, latlngtablebufferintersect_20150910_130151, latlngtablebuffer_20150910_130151, latlngtablebufferintersectcalc_20150910_130151, latlngtable_20150910_131119, latlngtablebufferintersect_20150910_131119, latlngtablebuffer_20150910_131119, latlngtablebufferintersectcalc_20150910_131119, latlngtable_20150910_131542, latlngtablebufferintersect_20150910_131542, latlngtablebuffer_20150910_131542, latlngtablebufferintersectcalc_20150910_131542, latlngtable_20150910_131853, latlngtablebuffer_20150910_131853'\n",
    "\n",
    "url = \"https://%s.cartodb.com/api/v1/sql\" % username\n",
    "\n",
    "insert = 'DROP TABLE '+toDrop+';'\n",
    "\n",
    "params = {\n",
    "    'api_key' : apikey, # our account apikey, don't share!\n",
    "    'q'       : insert  # our insert statement above\n",
    "}\n",
    "\n",
    "#print insert\n",
    "\n",
    "req = urllib2.Request(url, urllib.urlencode(params))\n",
    "response = urllib2.urlopen(req)"
   ]
  },
  {
   "cell_type": "code",
   "execution_count": null,
   "metadata": {
    "collapsed": true
   },
   "outputs": [],
   "source": []
  }
 ],
 "metadata": {
  "kernelspec": {
   "display_name": "Python 2",
   "language": "python",
   "name": "python2"
  },
  "language_info": {
   "codemirror_mode": {
    "name": "ipython",
    "version": 2
   },
   "file_extension": ".py",
   "mimetype": "text/x-python",
   "name": "python",
   "nbconvert_exporter": "python",
   "pygments_lexer": "ipython2",
   "version": "2.7.8"
  }
 },
 "nbformat": 4,
 "nbformat_minor": 0
}
