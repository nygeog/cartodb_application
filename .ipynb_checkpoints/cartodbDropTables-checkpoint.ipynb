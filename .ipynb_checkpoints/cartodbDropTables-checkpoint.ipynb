{
 "cells": [
  {
   "cell_type": "code",
   "execution_count": null,
   "metadata": {
    "collapsed": true
   },
   "outputs": [],
   "source": [
    "print 'drop tables in toDrop list - for account maintenance'\n",
    "#toDrop = 'test_table1, rust, rust2, test_table2, latlngtable_20150910_090758, untitled_table, new_table, untitled_table_1, testcreate, t1, untitled_table_2, liberty_island_zone, films_recent, films_recent2, test_tableintersect3, latlngtable_20150910_090956, test_tableintersect, test_tableintersect2, test_tableintersect6, test_tableintersect10, test_tableintersect12, test_tableintersect13, test_tableintersect14, test_tableintersect15, test_tableintersect31, test_tablebuffer2, test_tableintersect30, latlngtable_20150910_091011, test_tableintersect40, latlngtablebufferintersect_20150910_091817, test_tableintersect40_copy, test_tableintersect40_copy_1, untitled_table_3, test_tableintersect_area_calc, test_tableintersect50, test_tableintersect51, test_tableintersect_area_calc50, latlngtable_20150910_091405, latlngtablebuffer_20150910_091405, test_tableintersect_area_calc51, latlngtable_20150910_091733, latlngtablebuffer_20150910_092007, latlngtable_20150910_092007, latlngtablebufferintersectcalc_20150910_092007, latlngtablebuffer_20150910_091817, latlngtablebufferintersect_20150910_092007, latlngtable_20150910_092438, latlngtablebuffer_20150910_095432, latlngtablebufferintersect_20150910_092438, latlngtable_20150910_095432, latlngtablebufferintersectcalc_20150910_092438, latlngtablebuffer_20150910_092438, latlngtable_20150910_095903, latlngtablebufferintersect_20150910_095903, latlngtable_20150910_095927, latlngtablebufferintersectcalc_20150910_095432, latlngtablebufferintersect_20150910_095432, latlngtablebuffer_20150910_095903, latlngtable_20150910_100018, latlngtablebuffer_20150910_095927, latlngtablebufferintersect_20150910_100018, latlngtablebufferintersect_20150910_095927, latlngtablebuffer_20150910_100018, latlngtable_20150910_100458, latlngtablebuffer_20150910_100458, latlngtablebufferintersect_20150910_100458, latlngtablebufferintersect_20150910_100851, latlngtablebuffer_20150910_100851, latlngtablebuffer_20150910_100908, latlngtable_20150910_100851, latlngtablebuffer_20150910_102205, latlngtable_20150910_102223, latlngtable_20150910_100908, latlngtablebufferintersect_20150910_100908, latlngtablebufferintersectcalc_20150910_100908, latlngtable_20150910_102205, latlngtablebuffer_20150910_102223, latlngtablebufferintersect_20150910_102358, latlngtablebufferintersectcalc_20150910_102358, latlngtable_20150910_102709, latlngtable_20150910_102358, latlngtablebuffer_20150910_102358, latlngtablebuffer_20150910_102709, latlngtablebufferintersect_20150910_102709, latlngtablebufferintersectcalc_20150910_102709, latlngtablebufferintersect_20150910_103142, latlngtablebuffer_20150910_103142, latlngtable_20150910_103142, latlngtablebufferintersectcalc_20150910_103142, latlngtable_20150910_103838, latlngtablebuffer_20150910_103838, latlngtablebufferintersect_20150910_103838, latlngtablebufferintersectcalc_20150910_103838, latlngtable_20150910_104649, latlngtablebuffer_20150910_104649, latlngtablebufferintersect_20150910_104649, latlngtablebufferintersectcalc_20150910_104649, latlngtable_20150910_105553, latlngtablebuffer_20150910_105553, latlngtablebufferintersect_20150910_105553, latlngtablebufferintersectcalc_20150910_105553'\n",
    "\n",
    "url = \"https://%s.cartodb.com/api/v1/sql\" % username\n",
    "\n",
    "insert = 'DROP TABLE '+toDrop+';'\n",
    "\n",
    "params = {\n",
    "    'api_key' : apikey, # our account apikey, don't share!\n",
    "    'q'       : insert  # our insert statement above\n",
    "}\n",
    "\n",
    "#print insert\n",
    "\n",
    "req = urllib2.Request(url, urllib.urlencode(params))\n",
    "response = urllib2.urlopen(req)"
   ]
  }
 ],
 "metadata": {
  "kernelspec": {
   "display_name": "Python 2",
   "language": "python",
   "name": "python2"
  },
  "language_info": {
   "codemirror_mode": {
    "name": "ipython",
    "version": 2
   },
   "file_extension": ".py",
   "mimetype": "text/x-python",
   "name": "python",
   "nbconvert_exporter": "python",
   "pygments_lexer": "ipython2",
   "version": "2.7.10"
  }
 },
 "nbformat": 4,
 "nbformat_minor": 0
}
